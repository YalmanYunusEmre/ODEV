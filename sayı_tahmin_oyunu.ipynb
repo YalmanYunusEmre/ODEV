{
  "nbformat": 4,
  "nbformat_minor": 0,
  "metadata": {
    "colab": {
      "provenance": []
    },
    "kernelspec": {
      "name": "python3",
      "display_name": "Python 3"
    },
    "language_info": {
      "name": "python"
    }
  },
  "cells": [
    {
      "cell_type": "code",
      "execution_count": null,
      "metadata": {
        "id": "tOTQ2etsrHCj"
      },
      "outputs": [],
      "source": [
        "import random\n",
        "\n",
        "def main():\n",
        "\n",
        "    number = random.randint(1, 100)\n",
        "\n",
        "    guesses = 0\n",
        "    won = False\n",
        "\n",
        "    max_guesses = 7\n",
        "\n",
        "    while guesses < max_guesses and not won:\n",
        "\n",
        "        guess = int(input(\"Enter your guess: \"))\n",
        "\n",
        "        guesses += 1\n",
        "\n",
        "        if guess == number:\n",
        "            print(\"Congratulations! You won!\")\n",
        "            won = True\n",
        "        elif guess < number:\n",
        "            print(\"Try again. Your guess is too low.\")\n",
        "        else:\n",
        "            print(\"Try again. Your guess is too high.\")\n",
        "\n",
        "    if not won:\n",
        "        print(\"You lost. The number was \" + str(number))\n",
        "\n",
        "if __name__ == \"__main__\":\n",
        "    main()"
      ]
    }
  ]
}