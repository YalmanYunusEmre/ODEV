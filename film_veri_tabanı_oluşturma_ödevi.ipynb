{
  "nbformat": 4,
  "nbformat_minor": 0,
  "metadata": {
    "colab": {
      "provenance": []
    },
    "kernelspec": {
      "name": "python3",
      "display_name": "Python 3"
    },
    "language_info": {
      "name": "python"
    }
  },
  "cells": [
    {
      "cell_type": "code",
      "execution_count": null,
      "metadata": {
        "id": "1g4-b1AGtk6S"
      },
      "outputs": [],
      "source": [
        "films = {\n",
        "    1001: {\n",
        "        \"title\": \"The Shawshank Redemption\",\n",
        "        \"categories\": [\"Crime\", \"Drama\"],\n",
        "        \"actors\": [\"Tim Robbins\", \"Morgan Freeman\"],\n",
        "        \"director\": \"Frank Darabont\",\n",
        "        \"release_year\": 1994\n",
        "    },\n",
        "    1002: {\n",
        "        \"title\": \"The Godfather\",\n",
        "        \"categories\": [\"Crime\", \"Drama\"],\n",
        "        \"actors\": [\"Marlon Brando\", \"Al Pacino\"],\n",
        "        \"director\": \"Francis Ford Coppola\",\n",
        "        \"release_year\": 1972\n",
        "    },\n",
        "\n",
        "}\n",
        "\n",
        "\n",
        "films[1003] = {\n",
        "    \"title\": \"The Dark Knight\",\n",
        "    \"categories\": [\"Action\", \"Crime\", \"Drama\"],\n",
        "    \"actors\": [\"Christian Bale\", \"Heath Ledger\"],\n",
        "    \"director\": \"Christopher Nolan\",\n",
        "    \"release_year\": 2008\n",
        "}\n"
      ]
    },
    {
      "cell_type": "code",
      "source": [
        "film_id = 1001\n",
        "film_details = films.get(film_id)\n",
        "\n",
        "if film_details:\n",
        "    print(f\"Film title: {film_details['title']}\")\n",
        "    print(f\"Categories: {', '.join(film_details['categories'])}\")\n",
        "    print(f\"Actors: {', '.join(film_details['actors'])}\")\n",
        "    print(f\"Director: {film_details['director']}\")\n",
        "    print(f\"Release year: {film_details['release_year']}\")\n",
        "else:\n",
        "    print(f\"No film found with ID {film_id}\")"
      ],
      "metadata": {
        "colab": {
          "base_uri": "https://localhost:8080/"
        },
        "id": "M02-Gls8u-dE",
        "outputId": "c895751a-a936-44ab-c073-9628910f3d53"
      },
      "execution_count": null,
      "outputs": [
        {
          "output_type": "stream",
          "name": "stdout",
          "text": [
            "Film title: The Shawshank Redemption\n",
            "Categories: Crime, Drama\n",
            "Actors: Tim Robbins, Morgan Freeman\n",
            "Director: Frank Darabont\n",
            "Release year: 1994\n"
          ]
        }
      ]
    }
  ]
}