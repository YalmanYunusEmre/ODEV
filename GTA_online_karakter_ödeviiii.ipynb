{
  "nbformat": 4,
  "nbformat_minor": 0,
  "metadata": {
    "colab": {
      "provenance": []
    },
    "kernelspec": {
      "name": "python3",
      "display_name": "Python 3"
    },
    "language_info": {
      "name": "python"
    }
  },
  "cells": [
    {
      "cell_type": "code",
      "source": [
        "class GTAOnlineCharacter:\n",
        "    def __init__(self, hair_color, beard_color, hair_style, beard_length, height, weight, body_type, shirt_color, eye_color, class_type, email, password):\n",
        "        self.hair_color = hair_color\n",
        "        self.beard_color = beard_color\n",
        "        self.hair_style = hair_style\n",
        "        self.beard_length = beard_length\n",
        "        self.height = height\n",
        "        self.weight = weight\n",
        "        self.body_type = body_type\n",
        "        self.shirt_color = shirt_color\n",
        "        self.eye_color = eye_color\n",
        "        self.class_type = class_type\n",
        "        self.email = email\n",
        "        self.password = password\n",
        "        self.location = \"unknown\"\n",
        "\n",
        "    def display_character(self):\n",
        "        print(f\"Hair Color: {self.hair_color}\")\n",
        "        print(f\"Beard Color: {self.beard_color}\")\n",
        "        print(f\"Hair Style: {self.hair_style}\")\n",
        "        print(f\"Beard Length: {self.beard_length}\")\n",
        "        print(f\"Height: {self.height}\")\n",
        "        print(f\"Weight: {self.weight}\")\n",
        "        print(f\"Body Type: {self.body_type}\")\n",
        "        print(f\"Shirt Color: {self.shirt_color}\")\n",
        "        print(f\"Eye Color: {self.eye_color}\")\n",
        "        print(f\"Class Type: {self.class_type}\")\n",
        "        print(f\"Email: {self.email}\")\n",
        "        print(f\"Location: {self.location}\")\n",
        "\n",
        "    def change_password(self, new_password):\n",
        "        self.password = new_password\n",
        "        print(\"Password changed successfully.\")\n",
        "\n",
        "    def change_location(self, new_location):\n",
        "        self.location = new_location\n",
        "        print(f\"Location changed to {self.location}.\")"
      ],
      "metadata": {
        "id": "D4TgVWrlgPll"
      },
      "execution_count": null,
      "outputs": []
    },
    {
      "cell_type": "code",
      "source": [
        "my_character = GTAOnlineCharacter(\"blonde\", \"dark\", \"curly\", \"long\", 6.0, 180, \"athletic\", \"white\", \"blue\", \"gangster\", \"example@email.com\", \"password123\")\n",
        "my_character.display_character()\n",
        "my_character.change_password(\"new_password123\")\n",
        "my_character.change_location(\"new_location\")\n",
        "my_character.display_character()"
      ],
      "metadata": {
        "id": "jHtZWsGbqo_g",
        "outputId": "5f0e8605-1532-4631-e4f2-426e36e2e0e6",
        "colab": {
          "base_uri": "https://localhost:8080/"
        }
      },
      "execution_count": null,
      "outputs": [
        {
          "output_type": "stream",
          "name": "stdout",
          "text": [
            "Hair Color: blonde\n",
            "Beard Color: dark\n",
            "Hair Style: curly\n",
            "Beard Length: long\n",
            "Height: 6.0\n",
            "Weight: 180\n",
            "Body Type: athletic\n",
            "Shirt Color: white\n",
            "Eye Color: blue\n",
            "Class Type: gangster\n",
            "Email: example@email.com\n",
            "Location: unknown\n",
            "Password changed successfully.\n",
            "Location changed to new_location.\n",
            "Hair Color: blonde\n",
            "Beard Color: dark\n",
            "Hair Style: curly\n",
            "Beard Length: long\n",
            "Height: 6.0\n",
            "Weight: 180\n",
            "Body Type: athletic\n",
            "Shirt Color: white\n",
            "Eye Color: blue\n",
            "Class Type: gangster\n",
            "Email: example@email.com\n",
            "Location: new_location\n"
          ]
        }
      ]
    }
  ]
}